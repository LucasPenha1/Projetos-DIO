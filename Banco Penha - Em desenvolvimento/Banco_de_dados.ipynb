{
 "cells": [
  {
   "cell_type": "code",
   "execution_count": 2,
   "id": "b86102af",
   "metadata": {},
   "outputs": [
    {
     "name": "stdout",
     "output_type": "stream",
     "text": [
      "Requirement already satisfied: mysql-connector-python in c:\\users\\55449\\anaconda3\\lib\\site-packages (8.0.32)\n",
      "Requirement already satisfied: protobuf<=3.20.3,>=3.11.0 in c:\\users\\55449\\anaconda3\\lib\\site-packages (from mysql-connector-python) (3.20.3)\n",
      "Note: you may need to restart the kernel to use updated packages.\n"
     ]
    }
   ],
   "source": [
    "pip install mysql-connector-python"
   ]
  },
  {
   "cell_type": "code",
   "execution_count": 4,
   "id": "0d637836",
   "metadata": {},
   "outputs": [
    {
     "name": "stdout",
     "output_type": "stream",
     "text": [
      "Conexão bem-sucedida!\n"
     ]
    }
   ],
   "source": [
    "import mysql.connector\n",
    "\n",
    "# Configurações de conexão\n",
    "config = {\n",
    "    'user': 'root',\n",
    "    'password': 'hipotenusa00',\n",
    "    'host': 'localhost',\n",
    "    'database': 'db_banco'\n",
    "}\n",
    "\n",
    "# Estabelecendo a conexão\n",
    "conn = mysql.connector.connect(**config)\n",
    "\n",
    "# Verificando a conexão\n",
    "if conn.is_connected():\n",
    "    print(\"Conexão bem-sucedida!\")\n",
    "else:\n",
    "    print(\"Falha na conexão.\")"
   ]
  },
  {
   "cell_type": "code",
   "execution_count": 5,
   "id": "0ef4caa2",
   "metadata": {},
   "outputs": [],
   "source": [
    "cursor = conn.cursor()"
   ]
  },
  {
   "cell_type": "code",
   "execution_count": 6,
   "id": "e28eea78",
   "metadata": {},
   "outputs": [],
   "source": [
    "# Executando uma consulta\n",
    "cursor.execute(\"SELECT * FROM cliente\")"
   ]
  },
  {
   "cell_type": "code",
   "execution_count": 7,
   "id": "f44148ba",
   "metadata": {},
   "outputs": [],
   "source": [
    "# Obtendo os resultados\n",
    "resultados = cursor.fetchall()\n",
    "for linha in resultados:\n",
    "    print(linha)"
   ]
  },
  {
   "cell_type": "code",
   "execution_count": 8,
   "id": "bb24bc25",
   "metadata": {},
   "outputs": [
    {
     "name": "stdout",
     "output_type": "stream",
     "text": [
      "1 registro(s) inserido(s)\n"
     ]
    }
   ],
   "source": [
    "# Inserindo dados\n",
    "sql = \"INSERT INTO cliente (nome, saldo) VALUES (%s, %s)\"\n",
    "valores = (\"Lucas\", \"100\")\n",
    "cursor.execute(sql, valores)\n",
    "\n",
    "# Confirmando a inserção\n",
    "conn.commit()\n",
    "print(cursor.rowcount, \"registro(s) inserido(s)\")"
   ]
  },
  {
   "cell_type": "code",
   "execution_count": 15,
   "id": "c8fb1e8b",
   "metadata": {},
   "outputs": [],
   "source": [
    "def novocliente(nome,saldo):\n",
    "   sql = \"INSERT INTO cliente (nome, saldo) VALUES (%s, %s)\"\n",
    "   valores = (nome, saldo)\n",
    "   cursor.execute(sql, valores)\n",
    "\n",
    "   # Confirmando a inserção\n",
    "   conn.commit()\n",
    "   \n",
    "   return print(cursor.rowcount, \"registro(s) inserido(s)\")\n"
   ]
  },
  {
   "cell_type": "code",
   "execution_count": 16,
   "id": "f0a70e3d",
   "metadata": {},
   "outputs": [
    {
     "ename": "ProgrammingError",
     "evalue": "2055: Cursor is not connected",
     "output_type": "error",
     "traceback": [
      "\u001b[1;31m---------------------------------------------------------------------------\u001b[0m",
      "\u001b[1;31mProgrammingError\u001b[0m                          Traceback (most recent call last)",
      "File \u001b[1;32m~\\anaconda3\\lib\\site-packages\\mysql\\connector\\cursor_cext.py:300\u001b[0m, in \u001b[0;36mCMySQLCursor.execute\u001b[1;34m(self, operation, params, multi)\u001b[0m\n\u001b[0;32m    299\u001b[0m     \u001b[38;5;28;01mif\u001b[39;00m \u001b[38;5;129;01mnot\u001b[39;00m \u001b[38;5;28mself\u001b[39m\u001b[38;5;241m.\u001b[39m_cnx \u001b[38;5;129;01mor\u001b[39;00m \u001b[38;5;28mself\u001b[39m\u001b[38;5;241m.\u001b[39m_cnx\u001b[38;5;241m.\u001b[39mis_closed():\n\u001b[1;32m--> 300\u001b[0m         \u001b[38;5;28;01mraise\u001b[39;00m ProgrammingError\n\u001b[0;32m    301\u001b[0m \u001b[38;5;28;01mexcept\u001b[39;00m (ProgrammingError, \u001b[38;5;167;01mReferenceError\u001b[39;00m) \u001b[38;5;28;01mas\u001b[39;00m err:\n",
      "\u001b[1;31mProgrammingError\u001b[0m: Unknown error",
      "\nThe above exception was the direct cause of the following exception:\n",
      "\u001b[1;31mProgrammingError\u001b[0m                          Traceback (most recent call last)",
      "Cell \u001b[1;32mIn[16], line 1\u001b[0m\n\u001b[1;32m----> 1\u001b[0m \u001b[43mnovocliente\u001b[49m\u001b[43m(\u001b[49m\u001b[38;5;124;43m\"\u001b[39;49m\u001b[38;5;124;43mMariana\u001b[39;49m\u001b[38;5;124;43m\"\u001b[39;49m\u001b[43m,\u001b[49m\u001b[38;5;241;43m100\u001b[39;49m\u001b[43m)\u001b[49m\n",
      "Cell \u001b[1;32mIn[15], line 4\u001b[0m, in \u001b[0;36mnovocliente\u001b[1;34m(nome, saldo)\u001b[0m\n\u001b[0;32m      2\u001b[0m sql \u001b[38;5;241m=\u001b[39m \u001b[38;5;124m\"\u001b[39m\u001b[38;5;124mINSERT INTO cliente (nome, saldo) VALUES (\u001b[39m\u001b[38;5;132;01m%s\u001b[39;00m\u001b[38;5;124m, \u001b[39m\u001b[38;5;132;01m%s\u001b[39;00m\u001b[38;5;124m)\u001b[39m\u001b[38;5;124m\"\u001b[39m\n\u001b[0;32m      3\u001b[0m valores \u001b[38;5;241m=\u001b[39m (nome, saldo)\n\u001b[1;32m----> 4\u001b[0m \u001b[43mcursor\u001b[49m\u001b[38;5;241;43m.\u001b[39;49m\u001b[43mexecute\u001b[49m\u001b[43m(\u001b[49m\u001b[43msql\u001b[49m\u001b[43m,\u001b[49m\u001b[43m \u001b[49m\u001b[43mvalores\u001b[49m\u001b[43m)\u001b[49m\n\u001b[0;32m      6\u001b[0m \u001b[38;5;66;03m# Confirmando a inserção\u001b[39;00m\n\u001b[0;32m      7\u001b[0m conn\u001b[38;5;241m.\u001b[39mcommit()\n",
      "File \u001b[1;32m~\\anaconda3\\lib\\site-packages\\mysql\\connector\\cursor_cext.py:302\u001b[0m, in \u001b[0;36mCMySQLCursor.execute\u001b[1;34m(self, operation, params, multi)\u001b[0m\n\u001b[0;32m    300\u001b[0m         \u001b[38;5;28;01mraise\u001b[39;00m ProgrammingError\n\u001b[0;32m    301\u001b[0m \u001b[38;5;28;01mexcept\u001b[39;00m (ProgrammingError, \u001b[38;5;167;01mReferenceError\u001b[39;00m) \u001b[38;5;28;01mas\u001b[39;00m err:\n\u001b[1;32m--> 302\u001b[0m     \u001b[38;5;28;01mraise\u001b[39;00m ProgrammingError(\u001b[38;5;124m\"\u001b[39m\u001b[38;5;124mCursor is not connected\u001b[39m\u001b[38;5;124m\"\u001b[39m, \u001b[38;5;241m2055\u001b[39m) \u001b[38;5;28;01mfrom\u001b[39;00m \u001b[38;5;21;01merr\u001b[39;00m\n\u001b[0;32m    303\u001b[0m \u001b[38;5;28mself\u001b[39m\u001b[38;5;241m.\u001b[39m_cnx\u001b[38;5;241m.\u001b[39mhandle_unread_result()\n\u001b[0;32m    305\u001b[0m stmt \u001b[38;5;241m=\u001b[39m \u001b[38;5;124m\"\u001b[39m\u001b[38;5;124m\"\u001b[39m\n",
      "\u001b[1;31mProgrammingError\u001b[0m: 2055: Cursor is not connected"
     ]
    }
   ],
   "source": [
    "novocliente(\"Mariana\",100)"
   ]
  },
  {
   "cell_type": "code",
   "execution_count": 14,
   "id": "2a028f5e",
   "metadata": {},
   "outputs": [],
   "source": [
    "cursor.close()\n",
    "conn.close()"
   ]
  },
  {
   "cell_type": "code",
   "execution_count": null,
   "id": "2c210c1f",
   "metadata": {},
   "outputs": [],
   "source": []
  }
 ],
 "metadata": {
  "kernelspec": {
   "display_name": "Python 3 (ipykernel)",
   "language": "python",
   "name": "python3"
  },
  "language_info": {
   "codemirror_mode": {
    "name": "ipython",
    "version": 3
   },
   "file_extension": ".py",
   "mimetype": "text/x-python",
   "name": "python",
   "nbconvert_exporter": "python",
   "pygments_lexer": "ipython3",
   "version": "3.10.9"
  }
 },
 "nbformat": 4,
 "nbformat_minor": 5
}
